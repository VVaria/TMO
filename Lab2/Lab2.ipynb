{
 "cells": [
  {
   "cell_type": "code",
   "execution_count": 1,
   "id": "freelance-mason",
   "metadata": {},
   "outputs": [],
   "source": [
    "import numpy as np\n",
    "import pandas as pd\n",
    "import seaborn as sns\n",
    "import matplotlib.pyplot as plt\n",
    "%matplotlib inline\n",
    "sns.set(style=\"ticks\")"
   ]
  },
  {
   "cell_type": "code",
   "execution_count": 12,
   "id": "dangerous-chamber",
   "metadata": {},
   "outputs": [],
   "source": [
    "data = pd.read_csv(r'C:\\Users\\Varenie\\Downloads\\test.csv', sep=\",\")"
   ]
  },
  {
   "cell_type": "code",
   "execution_count": 13,
   "id": "consolidated-cooling",
   "metadata": {},
   "outputs": [
    {
     "data": {
      "text/plain": [
       "(1568, 16)"
      ]
     },
     "execution_count": 13,
     "metadata": {},
     "output_type": "execute_result"
    }
   ],
   "source": [
    "data.shape"
   ]
  },
  {
   "cell_type": "code",
   "execution_count": 14,
   "id": "severe-blond",
   "metadata": {},
   "outputs": [
    {
     "data": {
      "text/plain": [
       "District              object\n",
       "Grade                 object\n",
       "Year                  object\n",
       "Demographic           object\n",
       "Number Tested         object\n",
       "Mean Scale Score      object\n",
       "Num Level 1           object\n",
       "Pct Level 1           object\n",
       "Num Level 2           object\n",
       "Pct Level 2          float64\n",
       "Num Level 3           object\n",
       "Pct Level 3          float64\n",
       "Num Level 4          float64\n",
       "Pct Level 4          float64\n",
       "Num Level 3 and 4     object\n",
       "Pct Level 3 and 4    float64\n",
       "dtype: object"
      ]
     },
     "execution_count": 14,
     "metadata": {},
     "output_type": "execute_result"
    }
   ],
   "source": [
    "data.dtypes"
   ]
  },
  {
   "cell_type": "code",
   "execution_count": 15,
   "id": "wireless-verification",
   "metadata": {},
   "outputs": [
    {
     "data": {
      "text/plain": [
       "District              1\n",
       "Grade                 0\n",
       "Year                  2\n",
       "Demographic           1\n",
       "Number Tested         1\n",
       "Mean Scale Score      1\n",
       "Num Level 1           1\n",
       "Pct Level 1           1\n",
       "Num Level 2           2\n",
       "Pct Level 2           4\n",
       "Num Level 3           4\n",
       "Pct Level 3           5\n",
       "Num Level 4           6\n",
       "Pct Level 4           9\n",
       "Num Level 3 and 4    10\n",
       "Pct Level 3 and 4    10\n",
       "dtype: int64"
      ]
     },
     "execution_count": 15,
     "metadata": {},
     "output_type": "execute_result"
    }
   ],
   "source": [
    "data.isnull().sum()"
   ]
  },
  {
   "cell_type": "code",
   "execution_count": 16,
   "id": "closed-porcelain",
   "metadata": {},
   "outputs": [
    {
     "data": {
      "text/html": [
       "<div>\n",
       "<style scoped>\n",
       "    .dataframe tbody tr th:only-of-type {\n",
       "        vertical-align: middle;\n",
       "    }\n",
       "\n",
       "    .dataframe tbody tr th {\n",
       "        vertical-align: top;\n",
       "    }\n",
       "\n",
       "    .dataframe thead th {\n",
       "        text-align: right;\n",
       "    }\n",
       "</style>\n",
       "<table border=\"1\" class=\"dataframe\">\n",
       "  <thead>\n",
       "    <tr style=\"text-align: right;\">\n",
       "      <th></th>\n",
       "      <th>District</th>\n",
       "      <th>Grade</th>\n",
       "      <th>Year</th>\n",
       "      <th>Demographic</th>\n",
       "      <th>Number Tested</th>\n",
       "      <th>Mean Scale Score</th>\n",
       "      <th>Num Level 1</th>\n",
       "      <th>Pct Level 1</th>\n",
       "      <th>Num Level 2</th>\n",
       "      <th>Pct Level 2</th>\n",
       "      <th>Num Level 3</th>\n",
       "      <th>Pct Level 3</th>\n",
       "      <th>Num Level 4</th>\n",
       "      <th>Pct Level 4</th>\n",
       "      <th>Num Level 3 and 4</th>\n",
       "      <th>Pct Level 3 and 4</th>\n",
       "    </tr>\n",
       "  </thead>\n",
       "  <tbody>\n",
       "    <tr>\n",
       "      <th>0</th>\n",
       "      <td>1</td>\n",
       "      <td>3</td>\n",
       "      <td>2006</td>\n",
       "      <td>All Students</td>\n",
       "      <td>936</td>\n",
       "      <td>673</td>\n",
       "      <td>73</td>\n",
       "      <td>7.8</td>\n",
       "      <td>170</td>\n",
       "      <td>18.2</td>\n",
       "      <td>484</td>\n",
       "      <td>51.7</td>\n",
       "      <td>209.0</td>\n",
       "      <td>22.3</td>\n",
       "      <td>693</td>\n",
       "      <td>74.0</td>\n",
       "    </tr>\n",
       "    <tr>\n",
       "      <th>1</th>\n",
       "      <td>1</td>\n",
       "      <td>3</td>\n",
       "      <td>2007</td>\n",
       "      <td>All Students</td>\n",
       "      <td>836</td>\n",
       "      <td>679</td>\n",
       "      <td>48</td>\n",
       "      <td>5.7</td>\n",
       "      <td>86</td>\n",
       "      <td>10.3</td>\n",
       "      <td>511</td>\n",
       "      <td>61.1</td>\n",
       "      <td>191.0</td>\n",
       "      <td>22.8</td>\n",
       "      <td>702</td>\n",
       "      <td>84.0</td>\n",
       "    </tr>\n",
       "    <tr>\n",
       "      <th>2</th>\n",
       "      <td>1</td>\n",
       "      <td>3</td>\n",
       "      <td>2008</td>\n",
       "      <td>All Students</td>\n",
       "      <td>862</td>\n",
       "      <td>686</td>\n",
       "      <td>17</td>\n",
       "      <td>2</td>\n",
       "      <td>94</td>\n",
       "      <td>10.9</td>\n",
       "      <td>537</td>\n",
       "      <td>62.3</td>\n",
       "      <td>214.0</td>\n",
       "      <td>24.8</td>\n",
       "      <td>751</td>\n",
       "      <td>87.1</td>\n",
       "    </tr>\n",
       "    <tr>\n",
       "      <th>3</th>\n",
       "      <td>1</td>\n",
       "      <td>3</td>\n",
       "      <td>2009</td>\n",
       "      <td>All Students</td>\n",
       "      <td>914</td>\n",
       "      <td>691</td>\n",
       "      <td>8</td>\n",
       "      <td>0.9</td>\n",
       "      <td>66</td>\n",
       "      <td>7.2</td>\n",
       "      <td>598</td>\n",
       "      <td>65.4</td>\n",
       "      <td>242.0</td>\n",
       "      <td>26.5</td>\n",
       "      <td>840</td>\n",
       "      <td>91.9</td>\n",
       "    </tr>\n",
       "    <tr>\n",
       "      <th>4</th>\n",
       "      <td>1</td>\n",
       "      <td>3</td>\n",
       "      <td>2010</td>\n",
       "      <td>All Students</td>\n",
       "      <td>866</td>\n",
       "      <td>697</td>\n",
       "      <td>89</td>\n",
       "      <td>10.3</td>\n",
       "      <td>257</td>\n",
       "      <td>29.7</td>\n",
       "      <td>279</td>\n",
       "      <td>32.2</td>\n",
       "      <td>241.0</td>\n",
       "      <td>27.8</td>\n",
       "      <td>520</td>\n",
       "      <td>60.0</td>\n",
       "    </tr>\n",
       "  </tbody>\n",
       "</table>\n",
       "</div>"
      ],
      "text/plain": [
       "  District Grade  Year   Demographic Number Tested Mean Scale Score  \\\n",
       "0        1     3  2006  All Students           936              673   \n",
       "1        1     3  2007  All Students           836              679   \n",
       "2        1     3  2008  All Students           862              686   \n",
       "3        1     3  2009  All Students           914              691   \n",
       "4        1     3  2010  All Students           866              697   \n",
       "\n",
       "  Num Level 1 Pct Level 1 Num Level 2  Pct Level 2 Num Level 3  Pct Level 3  \\\n",
       "0          73         7.8         170         18.2         484         51.7   \n",
       "1          48         5.7          86         10.3         511         61.1   \n",
       "2          17           2          94         10.9         537         62.3   \n",
       "3           8         0.9          66          7.2         598         65.4   \n",
       "4          89        10.3         257         29.7         279         32.2   \n",
       "\n",
       "   Num Level 4  Pct Level 4 Num Level 3 and 4  Pct Level 3 and 4  \n",
       "0        209.0         22.3               693               74.0  \n",
       "1        191.0         22.8               702               84.0  \n",
       "2        214.0         24.8               751               87.1  \n",
       "3        242.0         26.5               840               91.9  \n",
       "4        241.0         27.8               520               60.0  "
      ]
     },
     "execution_count": 16,
     "metadata": {},
     "output_type": "execute_result"
    }
   ],
   "source": [
    "data.head()"
   ]
  },
  {
   "cell_type": "code",
   "execution_count": 17,
   "id": "static-nelson",
   "metadata": {},
   "outputs": [
    {
     "data": {
      "text/plain": [
       "((1568, 16), (1568, 1))"
      ]
     },
     "execution_count": 17,
     "metadata": {},
     "output_type": "execute_result"
    }
   ],
   "source": [
    "data_new_1 = data.dropna(axis=1, how='any')\n",
    "(data.shape, data_new_1.shape)"
   ]
  },
  {
   "cell_type": "code",
   "execution_count": 18,
   "id": "arbitrary-variable",
   "metadata": {},
   "outputs": [
    {
     "data": {
      "text/plain": [
       "((1568, 16), (1557, 16))"
      ]
     },
     "execution_count": 18,
     "metadata": {},
     "output_type": "execute_result"
    }
   ],
   "source": [
    "data_new_2 = data.dropna(axis=0, how='any')\n",
    "(data.shape, data_new_2.shape)"
   ]
  },
  {
   "cell_type": "code",
   "execution_count": 19,
   "id": "heard-restoration",
   "metadata": {},
   "outputs": [
    {
     "data": {
      "text/html": [
       "<div>\n",
       "<style scoped>\n",
       "    .dataframe tbody tr th:only-of-type {\n",
       "        vertical-align: middle;\n",
       "    }\n",
       "\n",
       "    .dataframe tbody tr th {\n",
       "        vertical-align: top;\n",
       "    }\n",
       "\n",
       "    .dataframe thead th {\n",
       "        text-align: right;\n",
       "    }\n",
       "</style>\n",
       "<table border=\"1\" class=\"dataframe\">\n",
       "  <thead>\n",
       "    <tr style=\"text-align: right;\">\n",
       "      <th></th>\n",
       "      <th>District</th>\n",
       "      <th>Grade</th>\n",
       "      <th>Year</th>\n",
       "      <th>Demographic</th>\n",
       "      <th>Number Tested</th>\n",
       "      <th>Mean Scale Score</th>\n",
       "      <th>Num Level 1</th>\n",
       "      <th>Pct Level 1</th>\n",
       "      <th>Num Level 2</th>\n",
       "      <th>Pct Level 2</th>\n",
       "      <th>Num Level 3</th>\n",
       "      <th>Pct Level 3</th>\n",
       "      <th>Num Level 4</th>\n",
       "      <th>Pct Level 4</th>\n",
       "      <th>Num Level 3 and 4</th>\n",
       "      <th>Pct Level 3 and 4</th>\n",
       "    </tr>\n",
       "  </thead>\n",
       "  <tbody>\n",
       "    <tr>\n",
       "      <th>0</th>\n",
       "      <td>1</td>\n",
       "      <td>3</td>\n",
       "      <td>2006</td>\n",
       "      <td>All Students</td>\n",
       "      <td>936</td>\n",
       "      <td>673</td>\n",
       "      <td>73</td>\n",
       "      <td>7.8</td>\n",
       "      <td>170</td>\n",
       "      <td>18.2</td>\n",
       "      <td>484</td>\n",
       "      <td>51.7</td>\n",
       "      <td>209.0</td>\n",
       "      <td>22.3</td>\n",
       "      <td>693</td>\n",
       "      <td>74.0</td>\n",
       "    </tr>\n",
       "    <tr>\n",
       "      <th>1</th>\n",
       "      <td>1</td>\n",
       "      <td>3</td>\n",
       "      <td>2007</td>\n",
       "      <td>All Students</td>\n",
       "      <td>836</td>\n",
       "      <td>679</td>\n",
       "      <td>48</td>\n",
       "      <td>5.7</td>\n",
       "      <td>86</td>\n",
       "      <td>10.3</td>\n",
       "      <td>511</td>\n",
       "      <td>61.1</td>\n",
       "      <td>191.0</td>\n",
       "      <td>22.8</td>\n",
       "      <td>702</td>\n",
       "      <td>84.0</td>\n",
       "    </tr>\n",
       "    <tr>\n",
       "      <th>2</th>\n",
       "      <td>1</td>\n",
       "      <td>3</td>\n",
       "      <td>2008</td>\n",
       "      <td>All Students</td>\n",
       "      <td>862</td>\n",
       "      <td>686</td>\n",
       "      <td>17</td>\n",
       "      <td>2</td>\n",
       "      <td>94</td>\n",
       "      <td>10.9</td>\n",
       "      <td>537</td>\n",
       "      <td>62.3</td>\n",
       "      <td>214.0</td>\n",
       "      <td>24.8</td>\n",
       "      <td>751</td>\n",
       "      <td>87.1</td>\n",
       "    </tr>\n",
       "    <tr>\n",
       "      <th>3</th>\n",
       "      <td>1</td>\n",
       "      <td>3</td>\n",
       "      <td>2009</td>\n",
       "      <td>All Students</td>\n",
       "      <td>914</td>\n",
       "      <td>691</td>\n",
       "      <td>8</td>\n",
       "      <td>0.9</td>\n",
       "      <td>66</td>\n",
       "      <td>7.2</td>\n",
       "      <td>598</td>\n",
       "      <td>65.4</td>\n",
       "      <td>242.0</td>\n",
       "      <td>26.5</td>\n",
       "      <td>840</td>\n",
       "      <td>91.9</td>\n",
       "    </tr>\n",
       "    <tr>\n",
       "      <th>4</th>\n",
       "      <td>1</td>\n",
       "      <td>3</td>\n",
       "      <td>2010</td>\n",
       "      <td>All Students</td>\n",
       "      <td>866</td>\n",
       "      <td>697</td>\n",
       "      <td>89</td>\n",
       "      <td>10.3</td>\n",
       "      <td>257</td>\n",
       "      <td>29.7</td>\n",
       "      <td>279</td>\n",
       "      <td>32.2</td>\n",
       "      <td>241.0</td>\n",
       "      <td>27.8</td>\n",
       "      <td>520</td>\n",
       "      <td>60.0</td>\n",
       "    </tr>\n",
       "  </tbody>\n",
       "</table>\n",
       "</div>"
      ],
      "text/plain": [
       "  District Grade  Year   Demographic Number Tested Mean Scale Score  \\\n",
       "0        1     3  2006  All Students           936              673   \n",
       "1        1     3  2007  All Students           836              679   \n",
       "2        1     3  2008  All Students           862              686   \n",
       "3        1     3  2009  All Students           914              691   \n",
       "4        1     3  2010  All Students           866              697   \n",
       "\n",
       "  Num Level 1 Pct Level 1 Num Level 2  Pct Level 2 Num Level 3  Pct Level 3  \\\n",
       "0          73         7.8         170         18.2         484         51.7   \n",
       "1          48         5.7          86         10.3         511         61.1   \n",
       "2          17           2          94         10.9         537         62.3   \n",
       "3           8         0.9          66          7.2         598         65.4   \n",
       "4          89        10.3         257         29.7         279         32.2   \n",
       "\n",
       "   Num Level 4  Pct Level 4 Num Level 3 and 4  Pct Level 3 and 4  \n",
       "0        209.0         22.3               693               74.0  \n",
       "1        191.0         22.8               702               84.0  \n",
       "2        214.0         24.8               751               87.1  \n",
       "3        242.0         26.5               840               91.9  \n",
       "4        241.0         27.8               520               60.0  "
      ]
     },
     "execution_count": 19,
     "metadata": {},
     "output_type": "execute_result"
    }
   ],
   "source": [
    "data_new_3 = data.fillna(0)\n",
    "data_new_3.head()"
   ]
  },
  {
   "cell_type": "code",
   "execution_count": 20,
   "id": "secure-bible",
   "metadata": {},
   "outputs": [
    {
     "name": "stdout",
     "output_type": "stream",
     "text": [
      "Колонка Pct Level 2. Тип данных float64. Количество пустых значений 4, 1.95%.\n",
      "Колонка Pct Level 3. Тип данных float64. Количество пустых значений 5, 2.44%.\n",
      "Колонка Num Level 4. Тип данных float64. Количество пустых значений 6, 2.93%.\n",
      "Колонка Pct Level 4. Тип данных float64. Количество пустых значений 9, 4.39%.\n",
      "Колонка Pct Level 3 and 4. Тип данных float64. Количество пустых значений 10, 4.88%.\n"
     ]
    }
   ],
   "source": [
    "num_cols = []\n",
    "total_count = 205\n",
    "for col in data.columns:\n",
    "    # Количество пустых значений \n",
    "    temp_null_count = data[data[col].isnull()].shape[0]\n",
    "    dt = str(data[col].dtype)\n",
    "    if temp_null_count>0 and (dt=='float64' or dt=='int64'):\n",
    "        num_cols.append(col)\n",
    "        temp_perc = round((temp_null_count / total_count) * 100.0, 2)\n",
    "        print('Колонка {}. Тип данных {}. Количество пустых значений {}, {}%.'.format(col, dt, temp_null_count, temp_perc))"
   ]
  },
  {
   "cell_type": "code",
   "execution_count": 21,
   "id": "coral-zambia",
   "metadata": {},
   "outputs": [
    {
     "data": {
      "text/html": [
       "<div>\n",
       "<style scoped>\n",
       "    .dataframe tbody tr th:only-of-type {\n",
       "        vertical-align: middle;\n",
       "    }\n",
       "\n",
       "    .dataframe tbody tr th {\n",
       "        vertical-align: top;\n",
       "    }\n",
       "\n",
       "    .dataframe thead th {\n",
       "        text-align: right;\n",
       "    }\n",
       "</style>\n",
       "<table border=\"1\" class=\"dataframe\">\n",
       "  <thead>\n",
       "    <tr style=\"text-align: right;\">\n",
       "      <th></th>\n",
       "      <th>Pct Level 2</th>\n",
       "      <th>Pct Level 3</th>\n",
       "      <th>Num Level 4</th>\n",
       "      <th>Pct Level 4</th>\n",
       "      <th>Pct Level 3 and 4</th>\n",
       "    </tr>\n",
       "  </thead>\n",
       "  <tbody>\n",
       "    <tr>\n",
       "      <th>0</th>\n",
       "      <td>18.2</td>\n",
       "      <td>51.7</td>\n",
       "      <td>209.0</td>\n",
       "      <td>22.3</td>\n",
       "      <td>74.0</td>\n",
       "    </tr>\n",
       "    <tr>\n",
       "      <th>1</th>\n",
       "      <td>10.3</td>\n",
       "      <td>61.1</td>\n",
       "      <td>191.0</td>\n",
       "      <td>22.8</td>\n",
       "      <td>84.0</td>\n",
       "    </tr>\n",
       "    <tr>\n",
       "      <th>2</th>\n",
       "      <td>10.9</td>\n",
       "      <td>62.3</td>\n",
       "      <td>214.0</td>\n",
       "      <td>24.8</td>\n",
       "      <td>87.1</td>\n",
       "    </tr>\n",
       "    <tr>\n",
       "      <th>3</th>\n",
       "      <td>7.2</td>\n",
       "      <td>65.4</td>\n",
       "      <td>242.0</td>\n",
       "      <td>26.5</td>\n",
       "      <td>91.9</td>\n",
       "    </tr>\n",
       "    <tr>\n",
       "      <th>4</th>\n",
       "      <td>29.7</td>\n",
       "      <td>32.2</td>\n",
       "      <td>241.0</td>\n",
       "      <td>27.8</td>\n",
       "      <td>60.0</td>\n",
       "    </tr>\n",
       "    <tr>\n",
       "      <th>...</th>\n",
       "      <td>...</td>\n",
       "      <td>...</td>\n",
       "      <td>...</td>\n",
       "      <td>...</td>\n",
       "      <td>...</td>\n",
       "    </tr>\n",
       "    <tr>\n",
       "      <th>1563</th>\n",
       "      <td>22.4</td>\n",
       "      <td>56.0</td>\n",
       "      <td>1239.0</td>\n",
       "      <td>13.7</td>\n",
       "      <td>69.8</td>\n",
       "    </tr>\n",
       "    <tr>\n",
       "      <th>1564</th>\n",
       "      <td>17.3</td>\n",
       "      <td>61.2</td>\n",
       "      <td>1538.0</td>\n",
       "      <td>17.4</td>\n",
       "      <td>78.6</td>\n",
       "    </tr>\n",
       "    <tr>\n",
       "      <th>1565</th>\n",
       "      <td>40.3</td>\n",
       "      <td>31.4</td>\n",
       "      <td>1221.0</td>\n",
       "      <td>14.4</td>\n",
       "      <td>45.7</td>\n",
       "    </tr>\n",
       "    <tr>\n",
       "      <th>1566</th>\n",
       "      <td>40.6</td>\n",
       "      <td>34.4</td>\n",
       "      <td>977.0</td>\n",
       "      <td>11.9</td>\n",
       "      <td>46.3</td>\n",
       "    </tr>\n",
       "    <tr>\n",
       "      <th>1567</th>\n",
       "      <td>NaN</td>\n",
       "      <td>NaN</td>\n",
       "      <td>NaN</td>\n",
       "      <td>NaN</td>\n",
       "      <td>NaN</td>\n",
       "    </tr>\n",
       "  </tbody>\n",
       "</table>\n",
       "<p>1568 rows × 5 columns</p>\n",
       "</div>"
      ],
      "text/plain": [
       "      Pct Level 2  Pct Level 3  Num Level 4  Pct Level 4  Pct Level 3 and 4\n",
       "0            18.2         51.7        209.0         22.3               74.0\n",
       "1            10.3         61.1        191.0         22.8               84.0\n",
       "2            10.9         62.3        214.0         24.8               87.1\n",
       "3             7.2         65.4        242.0         26.5               91.9\n",
       "4            29.7         32.2        241.0         27.8               60.0\n",
       "...           ...          ...          ...          ...                ...\n",
       "1563         22.4         56.0       1239.0         13.7               69.8\n",
       "1564         17.3         61.2       1538.0         17.4               78.6\n",
       "1565         40.3         31.4       1221.0         14.4               45.7\n",
       "1566         40.6         34.4        977.0         11.9               46.3\n",
       "1567          NaN          NaN          NaN          NaN                NaN\n",
       "\n",
       "[1568 rows x 5 columns]"
      ]
     },
     "execution_count": 21,
     "metadata": {},
     "output_type": "execute_result"
    }
   ],
   "source": [
    "data_num = data[num_cols]\n",
    "data_num"
   ]
  },
  {
   "cell_type": "code",
   "execution_count": 22,
   "id": "distant-defeat",
   "metadata": {},
   "outputs": [
    {
     "data": {
      "text/plain": [
       "Int64Index([16, 1567], dtype='int64')"
      ]
     },
     "execution_count": 22,
     "metadata": {},
     "output_type": "execute_result"
    }
   ],
   "source": [
    "flt_index = data[data['Year'].isnull()].index\n",
    "flt_index"
   ]
  },
  {
   "cell_type": "code",
   "execution_count": 23,
   "id": "neural-berlin",
   "metadata": {},
   "outputs": [
    {
     "data": {
      "text/html": [
       "<div>\n",
       "<style scoped>\n",
       "    .dataframe tbody tr th:only-of-type {\n",
       "        vertical-align: middle;\n",
       "    }\n",
       "\n",
       "    .dataframe tbody tr th {\n",
       "        vertical-align: top;\n",
       "    }\n",
       "\n",
       "    .dataframe thead th {\n",
       "        text-align: right;\n",
       "    }\n",
       "</style>\n",
       "<table border=\"1\" class=\"dataframe\">\n",
       "  <thead>\n",
       "    <tr style=\"text-align: right;\">\n",
       "      <th></th>\n",
       "      <th>District</th>\n",
       "      <th>Grade</th>\n",
       "      <th>Year</th>\n",
       "      <th>Demographic</th>\n",
       "      <th>Number Tested</th>\n",
       "      <th>Mean Scale Score</th>\n",
       "      <th>Num Level 1</th>\n",
       "      <th>Pct Level 1</th>\n",
       "      <th>Num Level 2</th>\n",
       "      <th>Pct Level 2</th>\n",
       "      <th>Num Level 3</th>\n",
       "      <th>Pct Level 3</th>\n",
       "      <th>Num Level 4</th>\n",
       "      <th>Pct Level 4</th>\n",
       "      <th>Num Level 3 and 4</th>\n",
       "      <th>Pct Level 3 and 4</th>\n",
       "    </tr>\n",
       "  </thead>\n",
       "  <tbody>\n",
       "    <tr>\n",
       "      <th>16</th>\n",
       "      <td>1</td>\n",
       "      <td>5</td>\n",
       "      <td>NaN</td>\n",
       "      <td>All Students</td>\n",
       "      <td>856</td>\n",
       "      <td>677</td>\n",
       "      <td>40</td>\n",
       "      <td>4.7</td>\n",
       "      <td>126</td>\n",
       "      <td>14.7</td>\n",
       "      <td>489</td>\n",
       "      <td>57.1</td>\n",
       "      <td>201.0</td>\n",
       "      <td>23.5</td>\n",
       "      <td>690</td>\n",
       "      <td>80.6</td>\n",
       "    </tr>\n",
       "    <tr>\n",
       "      <th>1567</th>\n",
       "      <td>32</td>\n",
       "      <td>All Grades</td>\n",
       "      <td>NaN</td>\n",
       "      <td>NaN</td>\n",
       "      <td>NaN</td>\n",
       "      <td>NaN</td>\n",
       "      <td>NaN</td>\n",
       "      <td>NaN</td>\n",
       "      <td>NaN</td>\n",
       "      <td>NaN</td>\n",
       "      <td>NaN</td>\n",
       "      <td>NaN</td>\n",
       "      <td>NaN</td>\n",
       "      <td>NaN</td>\n",
       "      <td>NaN</td>\n",
       "      <td>NaN</td>\n",
       "    </tr>\n",
       "  </tbody>\n",
       "</table>\n",
       "</div>"
      ],
      "text/plain": [
       "     District       Grade Year   Demographic Number Tested Mean Scale Score  \\\n",
       "16          1           5  NaN  All Students           856              677   \n",
       "1567       32  All Grades  NaN           NaN           NaN              NaN   \n",
       "\n",
       "     Num Level 1 Pct Level 1 Num Level 2  Pct Level 2 Num Level 3  \\\n",
       "16            40         4.7         126         14.7         489   \n",
       "1567         NaN         NaN         NaN          NaN         NaN   \n",
       "\n",
       "      Pct Level 3  Num Level 4  Pct Level 4 Num Level 3 and 4  \\\n",
       "16           57.1        201.0         23.5               690   \n",
       "1567          NaN          NaN          NaN               NaN   \n",
       "\n",
       "      Pct Level 3 and 4  \n",
       "16                 80.6  \n",
       "1567                NaN  "
      ]
     },
     "execution_count": 23,
     "metadata": {},
     "output_type": "execute_result"
    }
   ],
   "source": [
    "data[data.index.isin(flt_index)]"
   ]
  },
  {
   "cell_type": "code",
   "execution_count": 27,
   "id": "heavy-weekend",
   "metadata": {},
   "outputs": [
    {
     "data": {
      "text/html": [
       "<div>\n",
       "<style scoped>\n",
       "    .dataframe tbody tr th:only-of-type {\n",
       "        vertical-align: middle;\n",
       "    }\n",
       "\n",
       "    .dataframe tbody tr th {\n",
       "        vertical-align: top;\n",
       "    }\n",
       "\n",
       "    .dataframe thead th {\n",
       "        text-align: right;\n",
       "    }\n",
       "</style>\n",
       "<table border=\"1\" class=\"dataframe\">\n",
       "  <thead>\n",
       "    <tr style=\"text-align: right;\">\n",
       "      <th></th>\n",
       "      <th>Pct Level 2</th>\n",
       "    </tr>\n",
       "  </thead>\n",
       "  <tbody>\n",
       "    <tr>\n",
       "      <th>0</th>\n",
       "      <td>18.2</td>\n",
       "    </tr>\n",
       "    <tr>\n",
       "      <th>1</th>\n",
       "      <td>10.3</td>\n",
       "    </tr>\n",
       "    <tr>\n",
       "      <th>2</th>\n",
       "      <td>10.9</td>\n",
       "    </tr>\n",
       "    <tr>\n",
       "      <th>3</th>\n",
       "      <td>7.2</td>\n",
       "    </tr>\n",
       "    <tr>\n",
       "      <th>4</th>\n",
       "      <td>29.7</td>\n",
       "    </tr>\n",
       "  </tbody>\n",
       "</table>\n",
       "</div>"
      ],
      "text/plain": [
       "   Pct Level 2\n",
       "0         18.2\n",
       "1         10.3\n",
       "2         10.9\n",
       "3          7.2\n",
       "4         29.7"
      ]
     },
     "execution_count": 27,
     "metadata": {},
     "output_type": "execute_result"
    }
   ],
   "source": [
    "data_num_price = data_num[['Pct Level 2']]\n",
    "data_num_price.head()"
   ]
  },
  {
   "cell_type": "code",
   "execution_count": 29,
   "id": "statistical-metabolism",
   "metadata": {},
   "outputs": [],
   "source": [
    "from sklearn.impute import SimpleImputer\n",
    "from sklearn.impute import MissingIndicator"
   ]
  },
  {
   "cell_type": "code",
   "execution_count": 30,
   "id": "urban-undergraduate",
   "metadata": {},
   "outputs": [
    {
     "data": {
      "text/plain": [
       "array([[False],\n",
       "       [False],\n",
       "       [False],\n",
       "       ...,\n",
       "       [False],\n",
       "       [False],\n",
       "       [ True]])"
      ]
     },
     "execution_count": 30,
     "metadata": {},
     "output_type": "execute_result"
    }
   ],
   "source": [
    "indicator = MissingIndicator()\n",
    "mask_missing_values_only = indicator.fit_transform(data_num_price)\n",
    "mask_missing_values_only"
   ]
  },
  {
   "cell_type": "code",
   "execution_count": 31,
   "id": "correct-square",
   "metadata": {},
   "outputs": [],
   "source": [
    "strategies=['mean', 'median','most_frequent']"
   ]
  },
  {
   "cell_type": "code",
   "execution_count": 32,
   "id": "referenced-voltage",
   "metadata": {},
   "outputs": [],
   "source": [
    "def test_num_impute(strategy_param):\n",
    "    imp_num = SimpleImputer(strategy=strategy_param)\n",
    "    data_num_imp = imp_num.fit_transform(data_num_price)\n",
    "    return data_num_imp[mask_missing_values_only]"
   ]
  },
  {
   "cell_type": "code",
   "execution_count": 33,
   "id": "physical-measurement",
   "metadata": {},
   "outputs": [
    {
     "data": {
      "text/plain": [
       "('mean', array([28.22167519, 28.22167519, 28.22167519, 28.22167519]))"
      ]
     },
     "execution_count": 33,
     "metadata": {},
     "output_type": "execute_result"
    }
   ],
   "source": [
    "strategies[0], test_num_impute(strategies[0])"
   ]
  },
  {
   "cell_type": "code",
   "execution_count": 34,
   "id": "extraordinary-kitchen",
   "metadata": {},
   "outputs": [
    {
     "data": {
      "text/plain": [
       "('median', array([27.6, 27.6, 27.6, 27.6]))"
      ]
     },
     "execution_count": 34,
     "metadata": {},
     "output_type": "execute_result"
    }
   ],
   "source": [
    "strategies[1], test_num_impute(strategies[1])"
   ]
  },
  {
   "cell_type": "code",
   "execution_count": 35,
   "id": "excited-exhibition",
   "metadata": {},
   "outputs": [
    {
     "data": {
      "text/plain": [
       "('most_frequent', array([20.5, 20.5, 20.5, 20.5]))"
      ]
     },
     "execution_count": 35,
     "metadata": {},
     "output_type": "execute_result"
    }
   ],
   "source": [
    "strategies[2], test_num_impute(strategies[2])"
   ]
  },
  {
   "cell_type": "code",
   "execution_count": 36,
   "id": "comfortable-ballet",
   "metadata": {},
   "outputs": [],
   "source": [
    "def test_num_impute_col(dataset, column, strategy_param):\n",
    "    temp_data = dataset[[column]]\n",
    "    \n",
    "    indicator = MissingIndicator()\n",
    "    mask_missing_values_only = indicator.fit_transform(temp_data)\n",
    "    \n",
    "    imp_num = SimpleImputer(strategy=strategy_param)\n",
    "    data_num_imp = imp_num.fit_transform(temp_data)\n",
    "    \n",
    "    filled_data = data_num_imp[mask_missing_values_only]\n",
    "    \n",
    "    return column, strategy_param, filled_data.size, filled_data[0], filled_data[filled_data.size-1]"
   ]
  },
  {
   "cell_type": "code",
   "execution_count": 37,
   "id": "sufficient-three",
   "metadata": {},
   "outputs": [
    {
     "data": {
      "text/html": [
       "<div>\n",
       "<style scoped>\n",
       "    .dataframe tbody tr th:only-of-type {\n",
       "        vertical-align: middle;\n",
       "    }\n",
       "\n",
       "    .dataframe tbody tr th {\n",
       "        vertical-align: top;\n",
       "    }\n",
       "\n",
       "    .dataframe thead th {\n",
       "        text-align: right;\n",
       "    }\n",
       "</style>\n",
       "<table border=\"1\" class=\"dataframe\">\n",
       "  <thead>\n",
       "    <tr style=\"text-align: right;\">\n",
       "      <th></th>\n",
       "      <th>Pct Level 2</th>\n",
       "    </tr>\n",
       "  </thead>\n",
       "  <tbody>\n",
       "    <tr>\n",
       "      <th>count</th>\n",
       "      <td>1564.000000</td>\n",
       "    </tr>\n",
       "    <tr>\n",
       "      <th>mean</th>\n",
       "      <td>28.221675</td>\n",
       "    </tr>\n",
       "    <tr>\n",
       "      <th>std</th>\n",
       "      <td>30.054162</td>\n",
       "    </tr>\n",
       "    <tr>\n",
       "      <th>min</th>\n",
       "      <td>0.600000</td>\n",
       "    </tr>\n",
       "    <tr>\n",
       "      <th>25%</th>\n",
       "      <td>17.600000</td>\n",
       "    </tr>\n",
       "    <tr>\n",
       "      <th>50%</th>\n",
       "      <td>27.600000</td>\n",
       "    </tr>\n",
       "    <tr>\n",
       "      <th>75%</th>\n",
       "      <td>37.600000</td>\n",
       "    </tr>\n",
       "    <tr>\n",
       "      <th>max</th>\n",
       "      <td>1086.000000</td>\n",
       "    </tr>\n",
       "  </tbody>\n",
       "</table>\n",
       "</div>"
      ],
      "text/plain": [
       "       Pct Level 2\n",
       "count  1564.000000\n",
       "mean     28.221675\n",
       "std      30.054162\n",
       "min       0.600000\n",
       "25%      17.600000\n",
       "50%      27.600000\n",
       "75%      37.600000\n",
       "max    1086.000000"
      ]
     },
     "execution_count": 37,
     "metadata": {},
     "output_type": "execute_result"
    }
   ],
   "source": [
    "data[['Pct Level 2']].describe()"
   ]
  },
  {
   "cell_type": "code",
   "execution_count": 38,
   "id": "female-turtle",
   "metadata": {},
   "outputs": [
    {
     "data": {
      "text/plain": [
       "('Pct Level 2', 'mean', 4, 28.221675191815855, 28.221675191815855)"
      ]
     },
     "execution_count": 38,
     "metadata": {},
     "output_type": "execute_result"
    }
   ],
   "source": [
    "name_col = 'Pct Level 2'\n",
    "test_num_impute_col(data, name_col, strategies[0])"
   ]
  },
  {
   "cell_type": "code",
   "execution_count": 39,
   "id": "received-style",
   "metadata": {},
   "outputs": [
    {
     "data": {
      "text/plain": [
       "('Pct Level 2', 'median', 4, 27.6, 27.6)"
      ]
     },
     "execution_count": 39,
     "metadata": {},
     "output_type": "execute_result"
    }
   ],
   "source": [
    "test_num_impute_col(data, name_col, strategies[1])"
   ]
  },
  {
   "cell_type": "code",
   "execution_count": 40,
   "id": "engaging-heavy",
   "metadata": {},
   "outputs": [
    {
     "data": {
      "text/plain": [
       "('Pct Level 2', 'most_frequent', 4, 20.5, 20.5)"
      ]
     },
     "execution_count": 40,
     "metadata": {},
     "output_type": "execute_result"
    }
   ],
   "source": [
    "test_num_impute_col(data, name_col, strategies[2])"
   ]
  },
  {
   "cell_type": "code",
   "execution_count": 41,
   "id": "iraqi-interference",
   "metadata": {},
   "outputs": [
    {
     "name": "stdout",
     "output_type": "stream",
     "text": [
      "Колонка \"District\". Тип данных object. Количество пустых значений 1, 0.49%.\n",
      "Колонка \"Year\". Тип данных object. Количество пустых значений 2, 0.98%.\n",
      "Колонка \"Demographic\". Тип данных object. Количество пустых значений 1, 0.49%.\n",
      "Колонка \"Number Tested\". Тип данных object. Количество пустых значений 1, 0.49%.\n",
      "Колонка \"Mean Scale Score\". Тип данных object. Количество пустых значений 1, 0.49%.\n",
      "Колонка \"Num Level 1\". Тип данных object. Количество пустых значений 1, 0.49%.\n",
      "Колонка \"Pct Level 1\". Тип данных object. Количество пустых значений 1, 0.49%.\n",
      "Колонка \"Num Level 2\". Тип данных object. Количество пустых значений 2, 0.98%.\n",
      "Колонка \"Num Level 3\". Тип данных object. Количество пустых значений 4, 1.95%.\n",
      "Колонка \"Num Level 3 and 4\". Тип данных object. Количество пустых значений 10, 4.88%.\n"
     ]
    }
   ],
   "source": [
    "cat_cols = []\n",
    "for col in data.columns:\n",
    "    # Количество пустых значений \n",
    "    temp_null_count = data[data[col].isnull()].shape[0]\n",
    "    dt = str(data[col].dtype)\n",
    "    if temp_null_count>0 and (dt=='object'):\n",
    "        cat_cols.append(col)\n",
    "        temp_perc = round((temp_null_count / total_count) * 100.0, 2)\n",
    "        print('Колонка \"{}\". Тип данных {}. Количество пустых значений {}, {}%.'.format(col, dt, temp_null_count, temp_perc))"
   ]
  },
  {
   "cell_type": "code",
   "execution_count": 42,
   "id": "binary-region",
   "metadata": {},
   "outputs": [
    {
     "data": {
      "text/html": [
       "<div>\n",
       "<style scoped>\n",
       "    .dataframe tbody tr th:only-of-type {\n",
       "        vertical-align: middle;\n",
       "    }\n",
       "\n",
       "    .dataframe tbody tr th {\n",
       "        vertical-align: top;\n",
       "    }\n",
       "\n",
       "    .dataframe thead th {\n",
       "        text-align: right;\n",
       "    }\n",
       "</style>\n",
       "<table border=\"1\" class=\"dataframe\">\n",
       "  <thead>\n",
       "    <tr style=\"text-align: right;\">\n",
       "      <th></th>\n",
       "      <th>Year</th>\n",
       "    </tr>\n",
       "  </thead>\n",
       "  <tbody>\n",
       "    <tr>\n",
       "      <th>0</th>\n",
       "      <td>2006</td>\n",
       "    </tr>\n",
       "    <tr>\n",
       "      <th>1</th>\n",
       "      <td>2007</td>\n",
       "    </tr>\n",
       "    <tr>\n",
       "      <th>2</th>\n",
       "      <td>2008</td>\n",
       "    </tr>\n",
       "    <tr>\n",
       "      <th>3</th>\n",
       "      <td>2009</td>\n",
       "    </tr>\n",
       "    <tr>\n",
       "      <th>4</th>\n",
       "      <td>2010</td>\n",
       "    </tr>\n",
       "  </tbody>\n",
       "</table>\n",
       "</div>"
      ],
      "text/plain": [
       "   Year\n",
       "0  2006\n",
       "1  2007\n",
       "2  2008\n",
       "3  2009\n",
       "4  2010"
      ]
     },
     "execution_count": 42,
     "metadata": {},
     "output_type": "execute_result"
    }
   ],
   "source": [
    "cat_temp_data = data[['Year']]\n",
    "cat_temp_data.head()"
   ]
  },
  {
   "cell_type": "code",
   "execution_count": 43,
   "id": "cleared-paragraph",
   "metadata": {},
   "outputs": [
    {
     "data": {
      "text/plain": [
       "array(['2006', '2007', '2008', '2009', '2010', '2011', '2012', nan,\n",
       "       '1137', ' ', '930'], dtype=object)"
      ]
     },
     "execution_count": 43,
     "metadata": {},
     "output_type": "execute_result"
    }
   ],
   "source": [
    "cat_temp_data['Year'].unique()"
   ]
  },
  {
   "cell_type": "code",
   "execution_count": 45,
   "id": "stainless-sport",
   "metadata": {},
   "outputs": [
    {
     "data": {
      "text/plain": [
       "(2, 1)"
      ]
     },
     "execution_count": 45,
     "metadata": {},
     "output_type": "execute_result"
    }
   ],
   "source": [
    "cat_temp_data[cat_temp_data['Year'].isnull()].shape"
   ]
  },
  {
   "cell_type": "code",
   "execution_count": 46,
   "id": "chemical-facial",
   "metadata": {},
   "outputs": [
    {
     "data": {
      "text/plain": [
       "array([['2006'],\n",
       "       ['2007'],\n",
       "       ['2008'],\n",
       "       ...,\n",
       "       ['2010'],\n",
       "       ['2011'],\n",
       "       ['2006']], dtype=object)"
      ]
     },
     "execution_count": 46,
     "metadata": {},
     "output_type": "execute_result"
    }
   ],
   "source": [
    "imp2 = SimpleImputer(missing_values=np.nan, strategy='most_frequent')\n",
    "data_imp2 = imp2.fit_transform(cat_temp_data)\n",
    "data_imp2"
   ]
  },
  {
   "cell_type": "code",
   "execution_count": 47,
   "id": "federal-newfoundland",
   "metadata": {},
   "outputs": [
    {
     "data": {
      "text/plain": [
       "array([' ', '1137', '2006', '2007', '2008', '2009', '2010', '2011',\n",
       "       '2012', '930'], dtype=object)"
      ]
     },
     "execution_count": 47,
     "metadata": {},
     "output_type": "execute_result"
    }
   ],
   "source": [
    "np.unique(data_imp2)"
   ]
  },
  {
   "cell_type": "code",
   "execution_count": 48,
   "id": "portuguese-heath",
   "metadata": {},
   "outputs": [
    {
     "data": {
      "text/plain": [
       "array([['2006'],\n",
       "       ['2007'],\n",
       "       ['2008'],\n",
       "       ...,\n",
       "       ['2010'],\n",
       "       ['2011'],\n",
       "       ['const']], dtype=object)"
      ]
     },
     "execution_count": 48,
     "metadata": {},
     "output_type": "execute_result"
    }
   ],
   "source": [
    "imp3 = SimpleImputer(missing_values=np.nan, strategy='constant', fill_value='const')\n",
    "data_imp3 = imp3.fit_transform(cat_temp_data)\n",
    "data_imp3"
   ]
  },
  {
   "cell_type": "code",
   "execution_count": 49,
   "id": "committed-animation",
   "metadata": {},
   "outputs": [
    {
     "data": {
      "text/html": [
       "<div>\n",
       "<style scoped>\n",
       "    .dataframe tbody tr th:only-of-type {\n",
       "        vertical-align: middle;\n",
       "    }\n",
       "\n",
       "    .dataframe tbody tr th {\n",
       "        vertical-align: top;\n",
       "    }\n",
       "\n",
       "    .dataframe thead th {\n",
       "        text-align: right;\n",
       "    }\n",
       "</style>\n",
       "<table border=\"1\" class=\"dataframe\">\n",
       "  <thead>\n",
       "    <tr style=\"text-align: right;\">\n",
       "      <th></th>\n",
       "      <th>c1</th>\n",
       "    </tr>\n",
       "  </thead>\n",
       "  <tbody>\n",
       "    <tr>\n",
       "      <th>0</th>\n",
       "      <td>2006</td>\n",
       "    </tr>\n",
       "    <tr>\n",
       "      <th>1</th>\n",
       "      <td>2007</td>\n",
       "    </tr>\n",
       "    <tr>\n",
       "      <th>2</th>\n",
       "      <td>2008</td>\n",
       "    </tr>\n",
       "    <tr>\n",
       "      <th>3</th>\n",
       "      <td>2009</td>\n",
       "    </tr>\n",
       "    <tr>\n",
       "      <th>4</th>\n",
       "      <td>2010</td>\n",
       "    </tr>\n",
       "    <tr>\n",
       "      <th>...</th>\n",
       "      <td>...</td>\n",
       "    </tr>\n",
       "    <tr>\n",
       "      <th>1563</th>\n",
       "      <td>2008</td>\n",
       "    </tr>\n",
       "    <tr>\n",
       "      <th>1564</th>\n",
       "      <td>2009</td>\n",
       "    </tr>\n",
       "    <tr>\n",
       "      <th>1565</th>\n",
       "      <td>2010</td>\n",
       "    </tr>\n",
       "    <tr>\n",
       "      <th>1566</th>\n",
       "      <td>2011</td>\n",
       "    </tr>\n",
       "    <tr>\n",
       "      <th>1567</th>\n",
       "      <td>2006</td>\n",
       "    </tr>\n",
       "  </tbody>\n",
       "</table>\n",
       "<p>1568 rows × 1 columns</p>\n",
       "</div>"
      ],
      "text/plain": [
       "        c1\n",
       "0     2006\n",
       "1     2007\n",
       "2     2008\n",
       "3     2009\n",
       "4     2010\n",
       "...    ...\n",
       "1563  2008\n",
       "1564  2009\n",
       "1565  2010\n",
       "1566  2011\n",
       "1567  2006\n",
       "\n",
       "[1568 rows x 1 columns]"
      ]
     },
     "execution_count": 49,
     "metadata": {},
     "output_type": "execute_result"
    }
   ],
   "source": [
    "cat_enc = pd.DataFrame({'c1':data_imp2.T[0]})\n",
    "cat_enc"
   ]
  },
  {
   "cell_type": "code",
   "execution_count": 50,
   "id": "foreign-poland",
   "metadata": {},
   "outputs": [],
   "source": [
    "from sklearn.preprocessing import LabelEncoder, OneHotEncoder"
   ]
  },
  {
   "cell_type": "code",
   "execution_count": 51,
   "id": "mathematical-exception",
   "metadata": {},
   "outputs": [],
   "source": [
    "le = LabelEncoder()\n",
    "cat_enc_le = le.fit_transform(cat_enc['c1'])"
   ]
  },
  {
   "cell_type": "code",
   "execution_count": 52,
   "id": "internal-membrane",
   "metadata": {},
   "outputs": [
    {
     "data": {
      "text/plain": [
       "array(['2006', '2007', '2008', '2009', '2010', '2011', '2012', '1137',\n",
       "       ' ', '930'], dtype=object)"
      ]
     },
     "execution_count": 52,
     "metadata": {},
     "output_type": "execute_result"
    }
   ],
   "source": [
    "cat_enc['c1'].unique()"
   ]
  },
  {
   "cell_type": "code",
   "execution_count": 53,
   "id": "jewish-appeal",
   "metadata": {},
   "outputs": [
    {
     "data": {
      "text/plain": [
       "array([0, 1, 2, 3, 4, 5, 6, 7, 8, 9])"
      ]
     },
     "execution_count": 53,
     "metadata": {},
     "output_type": "execute_result"
    }
   ],
   "source": [
    "np.unique(cat_enc_le)"
   ]
  },
  {
   "cell_type": "code",
   "execution_count": 54,
   "id": "restricted-picnic",
   "metadata": {},
   "outputs": [
    {
     "data": {
      "text/plain": [
       "array([' '], dtype=object)"
      ]
     },
     "execution_count": 54,
     "metadata": {},
     "output_type": "execute_result"
    }
   ],
   "source": [
    "le.inverse_transform([0])"
   ]
  },
  {
   "cell_type": "code",
   "execution_count": 55,
   "id": "valuable-translation",
   "metadata": {},
   "outputs": [],
   "source": [
    "ohe = OneHotEncoder()\n",
    "cat_enc_ohe = ohe.fit_transform(cat_enc[['c1']])"
   ]
  },
  {
   "cell_type": "code",
   "execution_count": 56,
   "id": "valued-publisher",
   "metadata": {},
   "outputs": [
    {
     "data": {
      "text/plain": [
       "(1568, 1)"
      ]
     },
     "execution_count": 56,
     "metadata": {},
     "output_type": "execute_result"
    }
   ],
   "source": [
    "cat_enc.shape"
   ]
  },
  {
   "cell_type": "code",
   "execution_count": 57,
   "id": "guilty-collective",
   "metadata": {},
   "outputs": [
    {
     "data": {
      "text/plain": [
       "(1568, 10)"
      ]
     },
     "execution_count": 57,
     "metadata": {},
     "output_type": "execute_result"
    }
   ],
   "source": [
    "cat_enc_ohe.shape"
   ]
  },
  {
   "cell_type": "code",
   "execution_count": 58,
   "id": "numerous-valuable",
   "metadata": {},
   "outputs": [
    {
     "data": {
      "text/plain": [
       "<1568x10 sparse matrix of type '<class 'numpy.float64'>'\n",
       "\twith 1568 stored elements in Compressed Sparse Row format>"
      ]
     },
     "execution_count": 58,
     "metadata": {},
     "output_type": "execute_result"
    }
   ],
   "source": [
    "cat_enc_ohe"
   ]
  },
  {
   "cell_type": "code",
   "execution_count": 59,
   "id": "commercial-custody",
   "metadata": {},
   "outputs": [
    {
     "data": {
      "text/plain": [
       "matrix([[0., 0., 1., 0., 0., 0., 0., 0., 0., 0.],\n",
       "        [0., 0., 0., 1., 0., 0., 0., 0., 0., 0.],\n",
       "        [0., 0., 0., 0., 1., 0., 0., 0., 0., 0.],\n",
       "        [0., 0., 0., 0., 0., 1., 0., 0., 0., 0.],\n",
       "        [0., 0., 0., 0., 0., 0., 1., 0., 0., 0.],\n",
       "        [0., 0., 0., 0., 0., 0., 0., 1., 0., 0.],\n",
       "        [0., 0., 0., 0., 0., 0., 0., 0., 1., 0.],\n",
       "        [0., 0., 1., 0., 0., 0., 0., 0., 0., 0.],\n",
       "        [0., 0., 0., 1., 0., 0., 0., 0., 0., 0.],\n",
       "        [0., 0., 0., 0., 1., 0., 0., 0., 0., 0.]])"
      ]
     },
     "execution_count": 59,
     "metadata": {},
     "output_type": "execute_result"
    }
   ],
   "source": [
    "cat_enc_ohe.todense()[0:10]"
   ]
  },
  {
   "cell_type": "code",
   "execution_count": 60,
   "id": "moderate-spoke",
   "metadata": {},
   "outputs": [
    {
     "data": {
      "text/html": [
       "<div>\n",
       "<style scoped>\n",
       "    .dataframe tbody tr th:only-of-type {\n",
       "        vertical-align: middle;\n",
       "    }\n",
       "\n",
       "    .dataframe tbody tr th {\n",
       "        vertical-align: top;\n",
       "    }\n",
       "\n",
       "    .dataframe thead th {\n",
       "        text-align: right;\n",
       "    }\n",
       "</style>\n",
       "<table border=\"1\" class=\"dataframe\">\n",
       "  <thead>\n",
       "    <tr style=\"text-align: right;\">\n",
       "      <th></th>\n",
       "      <th>c1</th>\n",
       "    </tr>\n",
       "  </thead>\n",
       "  <tbody>\n",
       "    <tr>\n",
       "      <th>0</th>\n",
       "      <td>2006</td>\n",
       "    </tr>\n",
       "    <tr>\n",
       "      <th>1</th>\n",
       "      <td>2007</td>\n",
       "    </tr>\n",
       "    <tr>\n",
       "      <th>2</th>\n",
       "      <td>2008</td>\n",
       "    </tr>\n",
       "    <tr>\n",
       "      <th>3</th>\n",
       "      <td>2009</td>\n",
       "    </tr>\n",
       "    <tr>\n",
       "      <th>4</th>\n",
       "      <td>2010</td>\n",
       "    </tr>\n",
       "    <tr>\n",
       "      <th>5</th>\n",
       "      <td>2011</td>\n",
       "    </tr>\n",
       "    <tr>\n",
       "      <th>6</th>\n",
       "      <td>2012</td>\n",
       "    </tr>\n",
       "    <tr>\n",
       "      <th>7</th>\n",
       "      <td>2006</td>\n",
       "    </tr>\n",
       "    <tr>\n",
       "      <th>8</th>\n",
       "      <td>2007</td>\n",
       "    </tr>\n",
       "    <tr>\n",
       "      <th>9</th>\n",
       "      <td>2008</td>\n",
       "    </tr>\n",
       "  </tbody>\n",
       "</table>\n",
       "</div>"
      ],
      "text/plain": [
       "     c1\n",
       "0  2006\n",
       "1  2007\n",
       "2  2008\n",
       "3  2009\n",
       "4  2010\n",
       "5  2011\n",
       "6  2012\n",
       "7  2006\n",
       "8  2007\n",
       "9  2008"
      ]
     },
     "execution_count": 60,
     "metadata": {},
     "output_type": "execute_result"
    }
   ],
   "source": [
    "cat_enc.head(10)"
   ]
  },
  {
   "cell_type": "code",
   "execution_count": 61,
   "id": "cultural-auditor",
   "metadata": {},
   "outputs": [],
   "source": [
    "from sklearn.preprocessing import MinMaxScaler, StandardScaler, Normalizer"
   ]
  },
  {
   "cell_type": "code",
   "execution_count": 68,
   "id": "settled-panic",
   "metadata": {},
   "outputs": [],
   "source": [
    "sc1 = MinMaxScaler()\n",
    "sc1_data = sc1.fit_transform(data[['Pct Level 4']])"
   ]
  },
  {
   "cell_type": "code",
   "execution_count": 70,
   "id": "designed-parts",
   "metadata": {},
   "outputs": [
    {
     "data": {
      "image/png": "[encoded data removed]",
      "text/plain": [
       "<Figure size 432x288 with 1 Axes>"
      ]
     },
     "metadata": {},
     "output_type": "display_data"
    }
   ],
   "source": [
    "plt.hist(data['Pct Level 4'], 50)\n",
    "plt.show()"
   ]
  },
  {
   "cell_type": "code",
   "execution_count": 71,
   "id": "extended-elevation",
   "metadata": {},
   "outputs": [
    {
     "data": {
      "image/png": "[encoded data removed]",
      "text/plain": [
       "<Figure size 432x288 with 1 Axes>"
      ]
     },
     "metadata": {},
     "output_type": "display_data"
    }
   ],
   "source": [
    "plt.hist(sc1_data, 50)\n",
    "plt.show()"
   ]
  },
  {
   "cell_type": "code",
   "execution_count": 73,
   "id": "considered-carter",
   "metadata": {},
   "outputs": [],
   "source": [
    "sc2 = StandardScaler()\n",
    "sc2_data = sc2.fit_transform(data[['Pct Level 4']])"
   ]
  },
  {
   "cell_type": "code",
   "execution_count": 74,
   "id": "adequate-phenomenon",
   "metadata": {},
   "outputs": [
    {
     "data": {
      "image/png": "[encoded data removed]",
      "text/plain": [
       "<Figure size 432x288 with 1 Axes>"
      ]
     },
     "metadata": {},
     "output_type": "display_data"
    }
   ],
   "source": [
    "plt.hist(sc2_data, 50)\n",
    "plt.show()"
   ]
  },
  {
   "cell_type": "code",
   "execution_count": null,
   "id": "commercial-hindu",
   "metadata": {},
   "outputs": [],
   "source": [
    "# The end."
   ]
  }
 ],
 "metadata": {
  "kernelspec": {
   "display_name": "Python 3",
   "language": "python",
   "name": "python3"
  },
  "language_info": {
   "codemirror_mode": {
    "name": "ipython",
    "version": 3
   },
   "file_extension": ".py",
   "mimetype": "text/x-python",
   "name": "python",
   "nbconvert_exporter": "python",
   "pygments_lexer": "ipython3",
   "version": "3.8.5"
  }
 },
 "nbformat": 4,
 "nbformat_minor": 5
}
